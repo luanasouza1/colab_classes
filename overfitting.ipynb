{
  "nbformat": 4,
  "nbformat_minor": 0,
  "metadata": {
    "colab": {
      "name": "overfitting.ipynb",
      "provenance": [],
      "collapsed_sections": [],
      "authorship_tag": "ABX9TyNMoaWO4hInge8S28pxAwsF",
      "include_colab_link": true
    },
    "kernelspec": {
      "name": "python3",
      "display_name": "Python 3"
    },
    "language_info": {
      "name": "python"
    }
  },
  "cells": [
    {
      "cell_type": "markdown",
      "metadata": {
        "id": "view-in-github",
        "colab_type": "text"
      },
      "source": [
        "<a href=\"https://colab.research.google.com/github/mascalmeida/colab_classes/blob/main/overfitting.ipynb\" target=\"_parent\"><img src=\"https://colab.research.google.com/assets/colab-badge.svg\" alt=\"Open In Colab\"/></a>"
      ]
    },
    {
      "cell_type": "markdown",
      "metadata": {
        "id": "UZhsMxKLBqqp"
      },
      "source": [
        "# Sobreajuste, complexidade x erro, bias-variance tradeoff (<a href=\"http://www.gamma.ufba.br/\">Gamma</a>)\n",
        "\n",
        "Docente: Karla Esquerre (<a href=\"https://github.com/kesquerre\">@kesquerre</a>)\n",
        "\n",
        "Facilitador: Lucas Mascarenhas (<a href=\"https://github.com/mascalmeida\">@mascalmeida</a>)\n",
        "\n"
      ]
    },
    {
      "cell_type": "code",
      "metadata": {
        "id": "lvheRjlDX7g9"
      },
      "source": [
        "# Pacotes\n",
        "## Manipulação e visualização de dados\n",
        "import pandas as pd\n",
        "import numpy as np\n",
        "import matplotlib.pyplot as plt\n",
        "%matplotlib inline\n",
        "\n",
        "## Modelagem\n",
        "from sklearn.linear_model import LinearRegression\n",
        "from sklearn.preprocessing import PolynomialFeatures\n",
        "from sklearn.model_selection import train_test_split\n",
        "from sklearn import metrics"
      ],
      "execution_count": null,
      "outputs": []
    },
    {
      "cell_type": "code",
      "metadata": {
        "id": "Z48UQYciBwFY",
        "colab": {
          "base_uri": "https://localhost:8080/",
          "height": 205
        },
        "outputId": "b39dd0b8-2e54-4358-a4b4-133b40819b8c"
      },
      "source": [
        "# Importando dados direto do site\n",
        "data = pd.read_csv('https://raw.githubusercontent.com/mrunalmetkar/Linear_Regression/main/student_scores%20-%20student_scores.csv')\n",
        "data.head()"
      ],
      "execution_count": null,
      "outputs": [
        {
          "output_type": "execute_result",
          "data": {
            "text/html": [
              "<div>\n",
              "<style scoped>\n",
              "    .dataframe tbody tr th:only-of-type {\n",
              "        vertical-align: middle;\n",
              "    }\n",
              "\n",
              "    .dataframe tbody tr th {\n",
              "        vertical-align: top;\n",
              "    }\n",
              "\n",
              "    .dataframe thead th {\n",
              "        text-align: right;\n",
              "    }\n",
              "</style>\n",
              "<table border=\"1\" class=\"dataframe\">\n",
              "  <thead>\n",
              "    <tr style=\"text-align: right;\">\n",
              "      <th></th>\n",
              "      <th>Hours</th>\n",
              "      <th>Scores</th>\n",
              "    </tr>\n",
              "  </thead>\n",
              "  <tbody>\n",
              "    <tr>\n",
              "      <th>0</th>\n",
              "      <td>2.5</td>\n",
              "      <td>21</td>\n",
              "    </tr>\n",
              "    <tr>\n",
              "      <th>1</th>\n",
              "      <td>5.1</td>\n",
              "      <td>47</td>\n",
              "    </tr>\n",
              "    <tr>\n",
              "      <th>2</th>\n",
              "      <td>3.2</td>\n",
              "      <td>27</td>\n",
              "    </tr>\n",
              "    <tr>\n",
              "      <th>3</th>\n",
              "      <td>8.5</td>\n",
              "      <td>75</td>\n",
              "    </tr>\n",
              "    <tr>\n",
              "      <th>4</th>\n",
              "      <td>3.5</td>\n",
              "      <td>30</td>\n",
              "    </tr>\n",
              "  </tbody>\n",
              "</table>\n",
              "</div>"
            ],
            "text/plain": [
              "   Hours  Scores\n",
              "0    2.5      21\n",
              "1    5.1      47\n",
              "2    3.2      27\n",
              "3    8.5      75\n",
              "4    3.5      30"
            ]
          },
          "metadata": {},
          "execution_count": 2
        }
      ]
    },
    {
      "cell_type": "code",
      "metadata": {
        "colab": {
          "base_uri": "https://localhost:8080/",
          "height": 279
        },
        "id": "1ErSwRyCVSpI",
        "outputId": "ef0a029a-24ae-4fd6-f10e-c13662e3a93c"
      },
      "source": [
        "# Visualizando as variáveis de interesse\n",
        "data.plot(x='Hours', y='Scores', style='o')\n",
        "plt.show()"
      ],
      "execution_count": null,
      "outputs": [
        {
          "output_type": "display_data",
          "data": {
            "image/png": "[encoded data removed]",
            "text/plain": [
              "<Figure size 432x288 with 1 Axes>"
            ]
          },
          "metadata": {
            "needs_background": "light"
          }
        }
      ]
    },
    {
      "cell_type": "code",
      "metadata": {
        "id": "h9e1GBm8YP4b"
      },
      "source": [
        "# Pré-processamento\n",
        "## Convertendo os tipos das variáveis\n",
        "data['Scores'] = data['Scores'].astype(float)\n",
        "## Lidando com os valores faltantes (NaN)\n",
        "data.dropna(inplace=True)\n",
        "## Definindo a entrada e a saída\n",
        "x = data.loc[:, 'Hours'].values.reshape(-1, 1)\n",
        "y = data.loc[:, 'Scores'].values.reshape(-1, 1)\n",
        "## Dividindo o dataset entre treino e teste\n",
        "x_train, x_test, y_train, y_test = train_test_split(x, y, test_size=0.2, random_state=5)"
      ],
      "execution_count": null,
      "outputs": []
    },
    {
      "cell_type": "code",
      "metadata": {
        "colab": {
          "base_uri": "https://localhost:8080/"
        },
        "id": "57eCH7caZVYm",
        "outputId": "76dc98d7-1bee-416a-d2f4-1a5081cc65f0"
      },
      "source": [
        "# Treinando o modelo\n",
        "model = LinearRegression()\n",
        "model.fit(x_train, y_train)"
      ],
      "execution_count": null,
      "outputs": [
        {
          "output_type": "execute_result",
          "data": {
            "text/plain": [
              "LinearRegression(copy_X=True, fit_intercept=True, n_jobs=None, normalize=False)"
            ]
          },
          "metadata": {},
          "execution_count": 5
        }
      ]
    },
    {
      "cell_type": "code",
      "metadata": {
        "colab": {
          "base_uri": "https://localhost:8080/"
        },
        "id": "ofw4XJl1d7xE",
        "outputId": "67bcd6a8-a2bf-43ae-8f61-718252a397ef"
      },
      "source": [
        "# Predição e avaliação do modelo\n",
        "## Usando dados de teste\n",
        "y_pred_test = model.predict(x_test)\n",
        "test_sample = metrics.mean_squared_error(y_test, y_pred_test)\n",
        "print('Erro de teste:', test_sample)\n",
        "## Usando dados de treino\n",
        "y_pred_train = model.predict(x_train)\n",
        "train_sample = metrics.mean_squared_error(y_train, y_pred_train)\n",
        "print('Erro de treino:', train_sample)"
      ],
      "execution_count": null,
      "outputs": [
        {
          "output_type": "stream",
          "name": "stdout",
          "text": [
            "Erro de teste: 37.563452579516046\n",
            "Erro de treino: 27.008868510608302\n"
          ]
        }
      ]
    },
    {
      "cell_type": "code",
      "metadata": {
        "colab": {
          "base_uri": "https://localhost:8080/"
        },
        "id": "03Yi8_B6jnA1",
        "outputId": "6b3e7a43-8a58-46af-b717-98bcd0c6be2e"
      },
      "source": [
        "# Aumentando a complexidade\n",
        "poly = PolynomialFeatures(degree=12)\n",
        "x2_train = poly.fit_transform(x_train)\n",
        "x2_test = poly.fit_transform(x_test)\n",
        "# Treinando o modelo\n",
        "model2 = LinearRegression()\n",
        "model2.fit(x2_train, y_train)\n",
        "# Predição e avaliação do modelo\n",
        "## Usando dados de teste\n",
        "y2_pred_test = model2.predict(x2_test)\n",
        "test2_sample = metrics.mean_squared_error(y_test, y2_pred_test)\n",
        "print('Erro de teste:', test2_sample)\n",
        "## Usando dados de treino\n",
        "y2_pred_train = model2.predict(x2_train)\n",
        "train2_sample = metrics.mean_squared_error(y_train, y2_pred_train)\n",
        "print('Erro de treino:', train2_sample)"
      ],
      "execution_count": null,
      "outputs": [
        {
          "output_type": "stream",
          "name": "stdout",
          "text": [
            "Erro de teste: 86.08344814679602\n",
            "Erro de treino: 8.861495561920645\n"
          ]
        }
      ]
    },
    {
      "cell_type": "code",
      "metadata": {
        "colab": {
          "base_uri": "https://localhost:8080/",
          "height": 336
        },
        "id": "wBVJN9wfoMkm",
        "outputId": "a8925203-25a8-4ff4-8972-3ed18b77e713"
      },
      "source": [
        "# Visualizando sobreajuste - dados de treino\n",
        "## Ordenando os dados\n",
        "xs, ys, yp, y2p = zip(*sorted(zip(x_train, y_train, y_pred_train, y2_pred_train)))\n",
        "## Montando o gráfico\n",
        "plt.figure(figsize=(7, 5))\n",
        "plt.title('Dados de treino!')\n",
        "plt.scatter(xs, ys, color = 'k', label='obs', s=40)\n",
        "plt.plot(xs, yp, color = 'b', ls = '--', label='linear', linewidth = 2)\n",
        "plt.plot(xs, y2p, color = 'r', ls = '--', label='poly', linewidth = 2)\n",
        "plt.legend()\n",
        "plt.show()"
      ],
      "execution_count": null,
      "outputs": [
        {
          "output_type": "display_data",
          "data": {
            "image/png": "[encoded data removed]",
            "text/plain": [
              "<Figure size 504x360 with 1 Axes>"
            ]
          },
          "metadata": {
            "needs_background": "light"
          }
        }
      ]
    },
    {
      "cell_type": "code",
      "metadata": {
        "colab": {
          "base_uri": "https://localhost:8080/",
          "height": 336
        },
        "id": "xMa8fbEaweiZ",
        "outputId": "d226b4e4-c088-449a-ad98-0b12cc59ef67"
      },
      "source": [
        "# Visualizando sobreajuste - dados de teste\n",
        "## Ordenando os dados\n",
        "xs, ys, yp, y2p = zip(*sorted(zip(x_test, y_test, y_pred_test, y2_pred_test)))\n",
        "## Montando o gráfico\n",
        "plt.figure(figsize=(7, 5))\n",
        "plt.title('Dados de teste!')\n",
        "plt.scatter(xs, ys, color = 'k', label='obs', s=90)\n",
        "plt.plot(xs, yp, color = 'b', ls = '--', label='linear', linewidth = 3.5)\n",
        "plt.plot(xs, y2p, color = 'r', ls = '--', label='poly', linewidth = 3.5)\n",
        "plt.legend()\n",
        "plt.show()"
      ],
      "execution_count": null,
      "outputs": [
        {
          "output_type": "display_data",
          "data": {
            "image/png": "[encoded data removed]",
            "text/plain": [
              "<Figure size 504x360 with 1 Axes>"
            ]
          },
          "metadata": {
            "needs_background": "light"
          }
        }
      ]
    },
    {
      "cell_type": "code",
      "metadata": {
        "colab": {
          "base_uri": "https://localhost:8080/",
          "height": 350
        },
        "id": "mjKDesu0xVmr",
        "outputId": "340a5407-dc40-4f75-8c38-6272a37ab824"
      },
      "source": [
        "# Montando gráfico interativo\n",
        "list_train = []\n",
        "list_test = []\n",
        "xis = range(1,12)\n",
        "for i in xis:\n",
        "  # Aumentando a complexidade\n",
        "  poly = PolynomialFeatures(degree=i)\n",
        "  x2_train = poly.fit_transform(x_train)\n",
        "  x2_test = poly.fit_transform(x_test)\n",
        "  # Treinando o modelo\n",
        "  model2 = LinearRegression()\n",
        "  model2.fit(x2_train, y_train)\n",
        "  # Predição e avaliação do modelo\n",
        "  ## Usando dados de teste\n",
        "  y2_pred_test = model2.predict(x2_test)\n",
        "  test2_sample = metrics.mean_squared_error(y_test, y2_pred_test)\n",
        "  ## Usando dados de treino\n",
        "  y2_pred_train = model2.predict(x2_train)\n",
        "  train2_sample = metrics.mean_squared_error(y_train, y2_pred_train)\n",
        "  ## Armazenando os valores de erro\n",
        "  list_test.append(test2_sample)\n",
        "  list_train.append(train2_sample)\n",
        "\n",
        "# Gerando gráfico (complexidade vs erro)\n",
        "plt.figure(figsize=(7, 5))\n",
        "plt.title('Complexidade x Erro')\n",
        "plt.xlabel('Complexidade do modelo')\n",
        "plt.ylabel('Erro de predição')\n",
        "plt.plot(xis, list_test, label='Dados de Teste', linewidth = 3.5)\n",
        "plt.plot(xis, list_train, label='Dados de Treino', linewidth = 3.5)\n",
        "plt.legend()\n",
        "plt.show()"
      ],
      "execution_count": null,
      "outputs": [
        {
          "output_type": "display_data",
          "data": {
            "image/png": "[encoded data removed]",
            "text/plain": [
              "<Figure size 504x360 with 1 Axes>"
            ]
          },
          "metadata": {
            "needs_background": "light"
          }
        }
      ]
    },
    {
      "cell_type": "markdown",
      "metadata": {
        "id": "mWB2S7RQYUkS"
      },
      "source": [
        "\n",
        "\n",
        "**REFERÊNCIAS**\n",
        "\n",
        "\n",
        "*   [Linear Regression in Python with Scikit-Learn](https://stackabuse.com/linear-regression-in-python-with-scikit-learn/)\n",
        "*   [Polynomial regression using scikit-learn](https://stats.stackexchange.com/questions/58739/polynomial-regression-using-scikit-learn) \n",
        "*   [StatsLearning Chapter 5 - part 1](https://youtu.be/ngrOYWgJjb4?t=216) \n",
        "\n",
        "\n",
        "\n",
        "\n",
        "\n",
        "\n"
      ]
    }
  ]
}