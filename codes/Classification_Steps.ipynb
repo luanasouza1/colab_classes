{
  "nbformat": 4,
  "nbformat_minor": 0,
  "metadata": {
    "colab": {
      "name": "Classification_Steps.ipynb",
      "provenance": [],
      "collapsed_sections": [
        "hG4nF36fe6rW",
        "5dBCqMiMe9BL",
        "tWKVrt8cxQDn",
        "elYhsSH_39c-",
        "w7JWdd6GvG2L",
        "-_240lns5aTm",
        "-rAmoJvY6bsm",
        "zYFeWvir68R1",
        "FKyXFXx78Jos"
      ],
      "authorship_tag": "ABX9TyOtQZ06L2+nLEMGjAXJORk6",
      "include_colab_link": true
    },
    "kernelspec": {
      "name": "python3",
      "display_name": "Python 3"
    },
    "language_info": {
      "name": "python"
    }
  },
  "cells": [
    {
      "cell_type": "markdown",
      "metadata": {
        "id": "view-in-github",
        "colab_type": "text"
      },
      "source": [
        "<a href=\"https://colab.research.google.com/github/mascalmeida/colab_classes/blob/main/Classification_Steps.ipynb\" target=\"_parent\"><img src=\"https://colab.research.google.com/assets/colab-badge.svg\" alt=\"Open In Colab\"/></a>"
      ]
    },
    {
      "cell_type": "markdown",
      "metadata": {
        "id": "nNFtbNPjelyg"
      },
      "source": [
        "# Aula Prática - Aprendizagem Estatística (<a href=\"http://www.gamma.ufba.br/\">Gamma</a>)\n",
        "\n",
        "## Modelos de Classificação\n",
        "\n",
        "Docente: Karla Esquerre (<a href=\"https://github.com/kesquerre\">@kesquerre</a>)\n",
        "\n",
        "Facilitador: Lucas Mascarenhas (<a href=\"https://github.com/mascalmeida\">@mascalmeida</a>)\n",
        "\n",
        "Este código tem como objetivo apresentar o passo a passo básico de como criar um modelo de classificação usando o Python/Colab."
      ]
    },
    {
      "cell_type": "markdown",
      "metadata": {
        "id": "hG4nF36fe6rW"
      },
      "source": [
        "## Pacotes e Definindo a semente (seed)"
      ]
    },
    {
      "cell_type": "code",
      "metadata": {
        "id": "ndBRXfPmepzj",
        "colab": {
          "base_uri": "https://localhost:8080/"
        },
        "outputId": "f8816b7c-21fe-4703-ddd5-86849c3051a5"
      },
      "source": [
        "# Pacotes\n",
        "\n",
        "## Dataset\n",
        "from sklearn.datasets import load_iris\n",
        "\n",
        "# STRUCTURAL PACKAGES ----------------------------------------------------------\n",
        "## Manipulação de dados\n",
        "import pandas as pd\n",
        "## Operate data\n",
        "import numpy as np\n",
        "## random package for set seed function\n",
        "import random\n",
        "\n",
        "# VISUALIZATION ----------------------------------------------------------------\n",
        "## Categorical data\n",
        "import seaborn as sns\n",
        "## Numerical data\n",
        "import matplotlib.pyplot as plt\n",
        "\n",
        "# DATA SCIENCE -----------------------------------------------------------------\n",
        "## Scale a data frame\n",
        "from sklearn.preprocessing import StandardScaler, MinMaxScaler\n",
        "## Split dataset to train and test\n",
        "from sklearn.model_selection import train_test_split\n",
        "## Classification Models\n",
        "from sklearn.ensemble import RandomForestClassifier\n",
        "## Tuning parameter with croos-validation (k-fold)\n",
        "from sklearn.model_selection import GridSearchCV\n",
        "## Metrics\n",
        "from sklearn.metrics import classification_report, confusion_matrix\n",
        "#Install -> !pip install scikit-plot\n",
        "!pip install scikit-plot\n",
        "import scikitplot as skplt\n",
        "\n",
        "# Garantindo a reprodutibilidade\n",
        "## Set seed function\n",
        "seed = 1000\n",
        "print('Seed =', seed)"
      ],
      "execution_count": 1,
      "outputs": [
        {
          "output_type": "stream",
          "text": [
            "Collecting scikit-plot\n",
            "  Downloading https://files.pythonhosted.org/packages/7c/47/32520e259340c140a4ad27c1b97050dd3254fdc517b1d59974d47037510e/scikit_plot-0.3.7-py3-none-any.whl\n",
            "Requirement already satisfied: joblib>=0.10 in /usr/local/lib/python3.7/dist-packages (from scikit-plot) (1.0.1)\n",
            "Requirement already satisfied: scipy>=0.9 in /usr/local/lib/python3.7/dist-packages (from scikit-plot) (1.4.1)\n",
            "Requirement already satisfied: scikit-learn>=0.18 in /usr/local/lib/python3.7/dist-packages (from scikit-plot) (0.22.2.post1)\n",
            "Requirement already satisfied: matplotlib>=1.4.0 in /usr/local/lib/python3.7/dist-packages (from scikit-plot) (3.2.2)\n",
            "Requirement already satisfied: numpy>=1.13.3 in /usr/local/lib/python3.7/dist-packages (from scipy>=0.9->scikit-plot) (1.19.5)\n",
            "Requirement already satisfied: cycler>=0.10 in /usr/local/lib/python3.7/dist-packages (from matplotlib>=1.4.0->scikit-plot) (0.10.0)\n",
            "Requirement already satisfied: kiwisolver>=1.0.1 in /usr/local/lib/python3.7/dist-packages (from matplotlib>=1.4.0->scikit-plot) (1.3.1)\n",
            "Requirement already satisfied: python-dateutil>=2.1 in /usr/local/lib/python3.7/dist-packages (from matplotlib>=1.4.0->scikit-plot) (2.8.1)\n",
            "Requirement already satisfied: pyparsing!=2.0.4,!=2.1.2,!=2.1.6,>=2.0.1 in /usr/local/lib/python3.7/dist-packages (from matplotlib>=1.4.0->scikit-plot) (2.4.7)\n",
            "Requirement already satisfied: six in /usr/local/lib/python3.7/dist-packages (from cycler>=0.10->matplotlib>=1.4.0->scikit-plot) (1.15.0)\n",
            "Installing collected packages: scikit-plot\n",
            "Successfully installed scikit-plot-0.3.7\n",
            "Seed = 1000\n"
          ],
          "name": "stdout"
        }
      ]
    },
    {
      "cell_type": "markdown",
      "metadata": {
        "id": "5dBCqMiMe9BL"
      },
      "source": [
        "## Importando dados"
      ]
    },
    {
      "cell_type": "code",
      "metadata": {
        "id": "6jMy9-3ke2d7",
        "colab": {
          "base_uri": "https://localhost:8080/",
          "height": 0
        },
        "outputId": "1754294c-33e8-4fa6-9cab-e3d302767356"
      },
      "source": [
        "# Importando dados\n",
        "## Carregando dados iris\n",
        "iris = load_iris()\n",
        "## Transformando em um dataframe pandas\n",
        "df = pd.DataFrame(iris.data, columns=iris.feature_names)\n",
        "## Adicionando uma variável\n",
        "df['target']=iris.target\n",
        "## Criando uma variável\n",
        "df['target_name'] = iris.target_names[2]\n",
        "df.loc[df['target'] == 0, 'target_name'] = iris.target_names[0]\n",
        "df.loc[df['target'] == 1, 'target_name'] = iris.target_names[1]\n",
        "## Exibindo o dataframe\n",
        "display(df)"
      ],
      "execution_count": 2,
      "outputs": [
        {
          "output_type": "display_data",
          "data": {
            "text/html": [
              "<div>\n",
              "<style scoped>\n",
              "    .dataframe tbody tr th:only-of-type {\n",
              "        vertical-align: middle;\n",
              "    }\n",
              "\n",
              "    .dataframe tbody tr th {\n",
              "        vertical-align: top;\n",
              "    }\n",
              "\n",
              "    .dataframe thead th {\n",
              "        text-align: right;\n",
              "    }\n",
              "</style>\n",
              "<table border=\"1\" class=\"dataframe\">\n",
              "  <thead>\n",
              "    <tr style=\"text-align: right;\">\n",
              "      <th></th>\n",
              "      <th>sepal length (cm)</th>\n",
              "      <th>sepal width (cm)</th>\n",
              "      <th>petal length (cm)</th>\n",
              "      <th>petal width (cm)</th>\n",
              "      <th>target</th>\n",
              "      <th>target_name</th>\n",
              "    </tr>\n",
              "  </thead>\n",
              "  <tbody>\n",
              "    <tr>\n",
              "      <th>0</th>\n",
              "      <td>5.1</td>\n",
              "      <td>3.5</td>\n",
              "      <td>1.4</td>\n",
              "      <td>0.2</td>\n",
              "      <td>0</td>\n",
              "      <td>setosa</td>\n",
              "    </tr>\n",
              "    <tr>\n",
              "      <th>1</th>\n",
              "      <td>4.9</td>\n",
              "      <td>3.0</td>\n",
              "      <td>1.4</td>\n",
              "      <td>0.2</td>\n",
              "      <td>0</td>\n",
              "      <td>setosa</td>\n",
              "    </tr>\n",
              "    <tr>\n",
              "      <th>2</th>\n",
              "      <td>4.7</td>\n",
              "      <td>3.2</td>\n",
              "      <td>1.3</td>\n",
              "      <td>0.2</td>\n",
              "      <td>0</td>\n",
              "      <td>setosa</td>\n",
              "    </tr>\n",
              "    <tr>\n",
              "      <th>3</th>\n",
              "      <td>4.6</td>\n",
              "      <td>3.1</td>\n",
              "      <td>1.5</td>\n",
              "      <td>0.2</td>\n",
              "      <td>0</td>\n",
              "      <td>setosa</td>\n",
              "    </tr>\n",
              "    <tr>\n",
              "      <th>4</th>\n",
              "      <td>5.0</td>\n",
              "      <td>3.6</td>\n",
              "      <td>1.4</td>\n",
              "      <td>0.2</td>\n",
              "      <td>0</td>\n",
              "      <td>setosa</td>\n",
              "    </tr>\n",
              "    <tr>\n",
              "      <th>...</th>\n",
              "      <td>...</td>\n",
              "      <td>...</td>\n",
              "      <td>...</td>\n",
              "      <td>...</td>\n",
              "      <td>...</td>\n",
              "      <td>...</td>\n",
              "    </tr>\n",
              "    <tr>\n",
              "      <th>145</th>\n",
              "      <td>6.7</td>\n",
              "      <td>3.0</td>\n",
              "      <td>5.2</td>\n",
              "      <td>2.3</td>\n",
              "      <td>2</td>\n",
              "      <td>virginica</td>\n",
              "    </tr>\n",
              "    <tr>\n",
              "      <th>146</th>\n",
              "      <td>6.3</td>\n",
              "      <td>2.5</td>\n",
              "      <td>5.0</td>\n",
              "      <td>1.9</td>\n",
              "      <td>2</td>\n",
              "      <td>virginica</td>\n",
              "    </tr>\n",
              "    <tr>\n",
              "      <th>147</th>\n",
              "      <td>6.5</td>\n",
              "      <td>3.0</td>\n",
              "      <td>5.2</td>\n",
              "      <td>2.0</td>\n",
              "      <td>2</td>\n",
              "      <td>virginica</td>\n",
              "    </tr>\n",
              "    <tr>\n",
              "      <th>148</th>\n",
              "      <td>6.2</td>\n",
              "      <td>3.4</td>\n",
              "      <td>5.4</td>\n",
              "      <td>2.3</td>\n",
              "      <td>2</td>\n",
              "      <td>virginica</td>\n",
              "    </tr>\n",
              "    <tr>\n",
              "      <th>149</th>\n",
              "      <td>5.9</td>\n",
              "      <td>3.0</td>\n",
              "      <td>5.1</td>\n",
              "      <td>1.8</td>\n",
              "      <td>2</td>\n",
              "      <td>virginica</td>\n",
              "    </tr>\n",
              "  </tbody>\n",
              "</table>\n",
              "<p>150 rows × 6 columns</p>\n",
              "</div>"
            ],
            "text/plain": [
              "     sepal length (cm)  sepal width (cm)  ...  target  target_name\n",
              "0                  5.1               3.5  ...       0       setosa\n",
              "1                  4.9               3.0  ...       0       setosa\n",
              "2                  4.7               3.2  ...       0       setosa\n",
              "3                  4.6               3.1  ...       0       setosa\n",
              "4                  5.0               3.6  ...       0       setosa\n",
              "..                 ...               ...  ...     ...          ...\n",
              "145                6.7               3.0  ...       2    virginica\n",
              "146                6.3               2.5  ...       2    virginica\n",
              "147                6.5               3.0  ...       2    virginica\n",
              "148                6.2               3.4  ...       2    virginica\n",
              "149                5.9               3.0  ...       2    virginica\n",
              "\n",
              "[150 rows x 6 columns]"
            ]
          },
          "metadata": {
            "tags": []
          }
        }
      ]
    },
    {
      "cell_type": "markdown",
      "metadata": {
        "id": "tWKVrt8cxQDn"
      },
      "source": [
        "## Criando o output"
      ]
    },
    {
      "cell_type": "code",
      "metadata": {
        "colab": {
          "base_uri": "https://localhost:8080/",
          "height": 487
        },
        "id": "pHLMfWV1xTyG",
        "outputId": "e5697491-b0c5-45d5-b0c1-bdd221f9d15f"
      },
      "source": [
        "# Definindo output\n",
        "## Preservando o dataset original\n",
        "dt = df.copy()\n",
        "## Visualizando quantidade de classes\n",
        "print(dt['target_name'].value_counts())\n",
        "\n",
        "## Criando variável - Setosa\n",
        "dt['setosa'] = 0\n",
        "## Adicionando os eventos a variável - Setosa\n",
        "dt.loc[dt['target_name'] == 'setosa', 'setosa'] = 1\n",
        "\n",
        "## Criando variável - Versicolor\n",
        "dt['versicolor'] = 0\n",
        "## Adicionando os eventos a variável - Versicolor\n",
        "dt.loc[dt['target_name'] == 'versicolor', 'versicolor'] = 1\n",
        "\n",
        "## Criando variável - Virginica\n",
        "dt['virginica'] = 0\n",
        "## Adicionando os eventos a variável - Virginica\n",
        "dt.loc[dt['target_name'] == 'virginica', 'virginica'] = 1\n",
        "\n",
        "## Exibindo o dataframe\n",
        "display(dt)"
      ],
      "execution_count": 3,
      "outputs": [
        {
          "output_type": "stream",
          "text": [
            "virginica     50\n",
            "setosa        50\n",
            "versicolor    50\n",
            "Name: target_name, dtype: int64\n"
          ],
          "name": "stdout"
        },
        {
          "output_type": "display_data",
          "data": {
            "text/html": [
              "<div>\n",
              "<style scoped>\n",
              "    .dataframe tbody tr th:only-of-type {\n",
              "        vertical-align: middle;\n",
              "    }\n",
              "\n",
              "    .dataframe tbody tr th {\n",
              "        vertical-align: top;\n",
              "    }\n",
              "\n",
              "    .dataframe thead th {\n",
              "        text-align: right;\n",
              "    }\n",
              "</style>\n",
              "<table border=\"1\" class=\"dataframe\">\n",
              "  <thead>\n",
              "    <tr style=\"text-align: right;\">\n",
              "      <th></th>\n",
              "      <th>sepal length (cm)</th>\n",
              "      <th>sepal width (cm)</th>\n",
              "      <th>petal length (cm)</th>\n",
              "      <th>petal width (cm)</th>\n",
              "      <th>target</th>\n",
              "      <th>target_name</th>\n",
              "      <th>setosa</th>\n",
              "      <th>versicolor</th>\n",
              "      <th>virginica</th>\n",
              "    </tr>\n",
              "  </thead>\n",
              "  <tbody>\n",
              "    <tr>\n",
              "      <th>0</th>\n",
              "      <td>5.1</td>\n",
              "      <td>3.5</td>\n",
              "      <td>1.4</td>\n",
              "      <td>0.2</td>\n",
              "      <td>0</td>\n",
              "      <td>setosa</td>\n",
              "      <td>1</td>\n",
              "      <td>0</td>\n",
              "      <td>0</td>\n",
              "    </tr>\n",
              "    <tr>\n",
              "      <th>1</th>\n",
              "      <td>4.9</td>\n",
              "      <td>3.0</td>\n",
              "      <td>1.4</td>\n",
              "      <td>0.2</td>\n",
              "      <td>0</td>\n",
              "      <td>setosa</td>\n",
              "      <td>1</td>\n",
              "      <td>0</td>\n",
              "      <td>0</td>\n",
              "    </tr>\n",
              "    <tr>\n",
              "      <th>2</th>\n",
              "      <td>4.7</td>\n",
              "      <td>3.2</td>\n",
              "      <td>1.3</td>\n",
              "      <td>0.2</td>\n",
              "      <td>0</td>\n",
              "      <td>setosa</td>\n",
              "      <td>1</td>\n",
              "      <td>0</td>\n",
              "      <td>0</td>\n",
              "    </tr>\n",
              "    <tr>\n",
              "      <th>3</th>\n",
              "      <td>4.6</td>\n",
              "      <td>3.1</td>\n",
              "      <td>1.5</td>\n",
              "      <td>0.2</td>\n",
              "      <td>0</td>\n",
              "      <td>setosa</td>\n",
              "      <td>1</td>\n",
              "      <td>0</td>\n",
              "      <td>0</td>\n",
              "    </tr>\n",
              "    <tr>\n",
              "      <th>4</th>\n",
              "      <td>5.0</td>\n",
              "      <td>3.6</td>\n",
              "      <td>1.4</td>\n",
              "      <td>0.2</td>\n",
              "      <td>0</td>\n",
              "      <td>setosa</td>\n",
              "      <td>1</td>\n",
              "      <td>0</td>\n",
              "      <td>0</td>\n",
              "    </tr>\n",
              "    <tr>\n",
              "      <th>...</th>\n",
              "      <td>...</td>\n",
              "      <td>...</td>\n",
              "      <td>...</td>\n",
              "      <td>...</td>\n",
              "      <td>...</td>\n",
              "      <td>...</td>\n",
              "      <td>...</td>\n",
              "      <td>...</td>\n",
              "      <td>...</td>\n",
              "    </tr>\n",
              "    <tr>\n",
              "      <th>145</th>\n",
              "      <td>6.7</td>\n",
              "      <td>3.0</td>\n",
              "      <td>5.2</td>\n",
              "      <td>2.3</td>\n",
              "      <td>2</td>\n",
              "      <td>virginica</td>\n",
              "      <td>0</td>\n",
              "      <td>0</td>\n",
              "      <td>1</td>\n",
              "    </tr>\n",
              "    <tr>\n",
              "      <th>146</th>\n",
              "      <td>6.3</td>\n",
              "      <td>2.5</td>\n",
              "      <td>5.0</td>\n",
              "      <td>1.9</td>\n",
              "      <td>2</td>\n",
              "      <td>virginica</td>\n",
              "      <td>0</td>\n",
              "      <td>0</td>\n",
              "      <td>1</td>\n",
              "    </tr>\n",
              "    <tr>\n",
              "      <th>147</th>\n",
              "      <td>6.5</td>\n",
              "      <td>3.0</td>\n",
              "      <td>5.2</td>\n",
              "      <td>2.0</td>\n",
              "      <td>2</td>\n",
              "      <td>virginica</td>\n",
              "      <td>0</td>\n",
              "      <td>0</td>\n",
              "      <td>1</td>\n",
              "    </tr>\n",
              "    <tr>\n",
              "      <th>148</th>\n",
              "      <td>6.2</td>\n",
              "      <td>3.4</td>\n",
              "      <td>5.4</td>\n",
              "      <td>2.3</td>\n",
              "      <td>2</td>\n",
              "      <td>virginica</td>\n",
              "      <td>0</td>\n",
              "      <td>0</td>\n",
              "      <td>1</td>\n",
              "    </tr>\n",
              "    <tr>\n",
              "      <th>149</th>\n",
              "      <td>5.9</td>\n",
              "      <td>3.0</td>\n",
              "      <td>5.1</td>\n",
              "      <td>1.8</td>\n",
              "      <td>2</td>\n",
              "      <td>virginica</td>\n",
              "      <td>0</td>\n",
              "      <td>0</td>\n",
              "      <td>1</td>\n",
              "    </tr>\n",
              "  </tbody>\n",
              "</table>\n",
              "<p>150 rows × 9 columns</p>\n",
              "</div>"
            ],
            "text/plain": [
              "     sepal length (cm)  sepal width (cm)  ...  versicolor  virginica\n",
              "0                  5.1               3.5  ...           0          0\n",
              "1                  4.9               3.0  ...           0          0\n",
              "2                  4.7               3.2  ...           0          0\n",
              "3                  4.6               3.1  ...           0          0\n",
              "4                  5.0               3.6  ...           0          0\n",
              "..                 ...               ...  ...         ...        ...\n",
              "145                6.7               3.0  ...           0          1\n",
              "146                6.3               2.5  ...           0          1\n",
              "147                6.5               3.0  ...           0          1\n",
              "148                6.2               3.4  ...           0          1\n",
              "149                5.9               3.0  ...           0          1\n",
              "\n",
              "[150 rows x 9 columns]"
            ]
          },
          "metadata": {
            "tags": []
          }
        }
      ]
    },
    {
      "cell_type": "markdown",
      "metadata": {
        "id": "elYhsSH_39c-"
      },
      "source": [
        "## Separando inputs x outputs"
      ]
    },
    {
      "cell_type": "code",
      "metadata": {
        "colab": {
          "base_uri": "https://localhost:8080/",
          "height": 0
        },
        "id": "hRel7vbS4DJ8",
        "outputId": "ef51f614-b248-424e-c3e4-e426381c02ee"
      },
      "source": [
        "# Separando entradas e saídas\n",
        "## Output\n",
        "y = dt['setosa']\n",
        "## Inputs\n",
        "x = dt.loc[:, ['sepal length (cm)', 'sepal width (cm)', 'petal length (cm)', 'petal width (cm)']]\n",
        "## Exibindo\n",
        "display(y, x)"
      ],
      "execution_count": 4,
      "outputs": [
        {
          "output_type": "display_data",
          "data": {
            "text/plain": [
              "0      1\n",
              "1      1\n",
              "2      1\n",
              "3      1\n",
              "4      1\n",
              "      ..\n",
              "145    0\n",
              "146    0\n",
              "147    0\n",
              "148    0\n",
              "149    0\n",
              "Name: setosa, Length: 150, dtype: int64"
            ]
          },
          "metadata": {
            "tags": []
          }
        },
        {
          "output_type": "display_data",
          "data": {
            "text/html": [
              "<div>\n",
              "<style scoped>\n",
              "    .dataframe tbody tr th:only-of-type {\n",
              "        vertical-align: middle;\n",
              "    }\n",
              "\n",
              "    .dataframe tbody tr th {\n",
              "        vertical-align: top;\n",
              "    }\n",
              "\n",
              "    .dataframe thead th {\n",
              "        text-align: right;\n",
              "    }\n",
              "</style>\n",
              "<table border=\"1\" class=\"dataframe\">\n",
              "  <thead>\n",
              "    <tr style=\"text-align: right;\">\n",
              "      <th></th>\n",
              "      <th>sepal length (cm)</th>\n",
              "      <th>sepal width (cm)</th>\n",
              "      <th>petal length (cm)</th>\n",
              "      <th>petal width (cm)</th>\n",
              "    </tr>\n",
              "  </thead>\n",
              "  <tbody>\n",
              "    <tr>\n",
              "      <th>0</th>\n",
              "      <td>5.1</td>\n",
              "      <td>3.5</td>\n",
              "      <td>1.4</td>\n",
              "      <td>0.2</td>\n",
              "    </tr>\n",
              "    <tr>\n",
              "      <th>1</th>\n",
              "      <td>4.9</td>\n",
              "      <td>3.0</td>\n",
              "      <td>1.4</td>\n",
              "      <td>0.2</td>\n",
              "    </tr>\n",
              "    <tr>\n",
              "      <th>2</th>\n",
              "      <td>4.7</td>\n",
              "      <td>3.2</td>\n",
              "      <td>1.3</td>\n",
              "      <td>0.2</td>\n",
              "    </tr>\n",
              "    <tr>\n",
              "      <th>3</th>\n",
              "      <td>4.6</td>\n",
              "      <td>3.1</td>\n",
              "      <td>1.5</td>\n",
              "      <td>0.2</td>\n",
              "    </tr>\n",
              "    <tr>\n",
              "      <th>4</th>\n",
              "      <td>5.0</td>\n",
              "      <td>3.6</td>\n",
              "      <td>1.4</td>\n",
              "      <td>0.2</td>\n",
              "    </tr>\n",
              "    <tr>\n",
              "      <th>...</th>\n",
              "      <td>...</td>\n",
              "      <td>...</td>\n",
              "      <td>...</td>\n",
              "      <td>...</td>\n",
              "    </tr>\n",
              "    <tr>\n",
              "      <th>145</th>\n",
              "      <td>6.7</td>\n",
              "      <td>3.0</td>\n",
              "      <td>5.2</td>\n",
              "      <td>2.3</td>\n",
              "    </tr>\n",
              "    <tr>\n",
              "      <th>146</th>\n",
              "      <td>6.3</td>\n",
              "      <td>2.5</td>\n",
              "      <td>5.0</td>\n",
              "      <td>1.9</td>\n",
              "    </tr>\n",
              "    <tr>\n",
              "      <th>147</th>\n",
              "      <td>6.5</td>\n",
              "      <td>3.0</td>\n",
              "      <td>5.2</td>\n",
              "      <td>2.0</td>\n",
              "    </tr>\n",
              "    <tr>\n",
              "      <th>148</th>\n",
              "      <td>6.2</td>\n",
              "      <td>3.4</td>\n",
              "      <td>5.4</td>\n",
              "      <td>2.3</td>\n",
              "    </tr>\n",
              "    <tr>\n",
              "      <th>149</th>\n",
              "      <td>5.9</td>\n",
              "      <td>3.0</td>\n",
              "      <td>5.1</td>\n",
              "      <td>1.8</td>\n",
              "    </tr>\n",
              "  </tbody>\n",
              "</table>\n",
              "<p>150 rows × 4 columns</p>\n",
              "</div>"
            ],
            "text/plain": [
              "     sepal length (cm)  sepal width (cm)  petal length (cm)  petal width (cm)\n",
              "0                  5.1               3.5                1.4               0.2\n",
              "1                  4.9               3.0                1.4               0.2\n",
              "2                  4.7               3.2                1.3               0.2\n",
              "3                  4.6               3.1                1.5               0.2\n",
              "4                  5.0               3.6                1.4               0.2\n",
              "..                 ...               ...                ...               ...\n",
              "145                6.7               3.0                5.2               2.3\n",
              "146                6.3               2.5                5.0               1.9\n",
              "147                6.5               3.0                5.2               2.0\n",
              "148                6.2               3.4                5.4               2.3\n",
              "149                5.9               3.0                5.1               1.8\n",
              "\n",
              "[150 rows x 4 columns]"
            ]
          },
          "metadata": {
            "tags": []
          }
        }
      ]
    },
    {
      "cell_type": "markdown",
      "metadata": {
        "id": "w7JWdd6GvG2L"
      },
      "source": [
        "## Definindo treino x teste"
      ]
    },
    {
      "cell_type": "code",
      "metadata": {
        "id": "MRrojTqvvQfY"
      },
      "source": [
        "# Dividindo dataset em treino e teste\n",
        "## Split training and test dataset\n",
        "x_train_unscaled, x_test_unscaled, y_train, y_test = train_test_split(x, \n",
        "                                                                      y, \n",
        "                                                                      stratify=y,\n",
        "                                                                      random_state = seed,\n",
        "                                                                      test_size = 0.25)"
      ],
      "execution_count": 5,
      "outputs": []
    },
    {
      "cell_type": "markdown",
      "metadata": {
        "id": "-_240lns5aTm"
      },
      "source": [
        "## Normalizando dados"
      ]
    },
    {
      "cell_type": "code",
      "metadata": {
        "colab": {
          "base_uri": "https://localhost:8080/",
          "height": 606
        },
        "id": "rRcgftxc5cxH",
        "outputId": "1cc3076f-b342-4586-887f-047448fe0a61"
      },
      "source": [
        "# Scale dataset\n",
        "## Fit based on data train\n",
        "scaler_fit = MinMaxScaler().fit(x_train_unscaled)\n",
        "## Transform data train and data test\n",
        "x_train = pd.DataFrame(scaler_fit.transform(x_train_unscaled), \n",
        "                       columns=x_train_unscaled.columns, \n",
        "                       index=x_train_unscaled.index)\n",
        "x_test = pd.DataFrame(scaler_fit.transform(x_test_unscaled), \n",
        "                      columns=x_test_unscaled.columns,\n",
        "                      index=x_test_unscaled.index)\n",
        "## Exibindo dados\n",
        "display(x_train, x_test.head())"
      ],
      "execution_count": 6,
      "outputs": [
        {
          "output_type": "display_data",
          "data": {
            "text/html": [
              "<div>\n",
              "<style scoped>\n",
              "    .dataframe tbody tr th:only-of-type {\n",
              "        vertical-align: middle;\n",
              "    }\n",
              "\n",
              "    .dataframe tbody tr th {\n",
              "        vertical-align: top;\n",
              "    }\n",
              "\n",
              "    .dataframe thead th {\n",
              "        text-align: right;\n",
              "    }\n",
              "</style>\n",
              "<table border=\"1\" class=\"dataframe\">\n",
              "  <thead>\n",
              "    <tr style=\"text-align: right;\">\n",
              "      <th></th>\n",
              "      <th>sepal length (cm)</th>\n",
              "      <th>sepal width (cm)</th>\n",
              "      <th>petal length (cm)</th>\n",
              "      <th>petal width (cm)</th>\n",
              "    </tr>\n",
              "  </thead>\n",
              "  <tbody>\n",
              "    <tr>\n",
              "      <th>66</th>\n",
              "      <td>0.363636</td>\n",
              "      <td>0.363636</td>\n",
              "      <td>0.578947</td>\n",
              "      <td>0.583333</td>\n",
              "    </tr>\n",
              "    <tr>\n",
              "      <th>17</th>\n",
              "      <td>0.212121</td>\n",
              "      <td>0.590909</td>\n",
              "      <td>0.035088</td>\n",
              "      <td>0.083333</td>\n",
              "    </tr>\n",
              "    <tr>\n",
              "      <th>141</th>\n",
              "      <td>0.757576</td>\n",
              "      <td>0.409091</td>\n",
              "      <td>0.684211</td>\n",
              "      <td>0.916667</td>\n",
              "    </tr>\n",
              "    <tr>\n",
              "      <th>115</th>\n",
              "      <td>0.606061</td>\n",
              "      <td>0.454545</td>\n",
              "      <td>0.719298</td>\n",
              "      <td>0.916667</td>\n",
              "    </tr>\n",
              "    <tr>\n",
              "      <th>76</th>\n",
              "      <td>0.727273</td>\n",
              "      <td>0.272727</td>\n",
              "      <td>0.631579</td>\n",
              "      <td>0.541667</td>\n",
              "    </tr>\n",
              "    <tr>\n",
              "      <th>...</th>\n",
              "      <td>...</td>\n",
              "      <td>...</td>\n",
              "      <td>...</td>\n",
              "      <td>...</td>\n",
              "    </tr>\n",
              "    <tr>\n",
              "      <th>25</th>\n",
              "      <td>0.181818</td>\n",
              "      <td>0.363636</td>\n",
              "      <td>0.070175</td>\n",
              "      <td>0.041667</td>\n",
              "    </tr>\n",
              "    <tr>\n",
              "      <th>140</th>\n",
              "      <td>0.696970</td>\n",
              "      <td>0.409091</td>\n",
              "      <td>0.771930</td>\n",
              "      <td>0.958333</td>\n",
              "    </tr>\n",
              "    <tr>\n",
              "      <th>122</th>\n",
              "      <td>1.000000</td>\n",
              "      <td>0.272727</td>\n",
              "      <td>0.964912</td>\n",
              "      <td>0.791667</td>\n",
              "    </tr>\n",
              "    <tr>\n",
              "      <th>149</th>\n",
              "      <td>0.454545</td>\n",
              "      <td>0.363636</td>\n",
              "      <td>0.684211</td>\n",
              "      <td>0.708333</td>\n",
              "    </tr>\n",
              "    <tr>\n",
              "      <th>39</th>\n",
              "      <td>0.212121</td>\n",
              "      <td>0.545455</td>\n",
              "      <td>0.052632</td>\n",
              "      <td>0.041667</td>\n",
              "    </tr>\n",
              "  </tbody>\n",
              "</table>\n",
              "<p>112 rows × 4 columns</p>\n",
              "</div>"
            ],
            "text/plain": [
              "     sepal length (cm)  sepal width (cm)  petal length (cm)  petal width (cm)\n",
              "66            0.363636          0.363636           0.578947          0.583333\n",
              "17            0.212121          0.590909           0.035088          0.083333\n",
              "141           0.757576          0.409091           0.684211          0.916667\n",
              "115           0.606061          0.454545           0.719298          0.916667\n",
              "76            0.727273          0.272727           0.631579          0.541667\n",
              "..                 ...               ...                ...               ...\n",
              "25            0.181818          0.363636           0.070175          0.041667\n",
              "140           0.696970          0.409091           0.771930          0.958333\n",
              "122           1.000000          0.272727           0.964912          0.791667\n",
              "149           0.454545          0.363636           0.684211          0.708333\n",
              "39            0.212121          0.545455           0.052632          0.041667\n",
              "\n",
              "[112 rows x 4 columns]"
            ]
          },
          "metadata": {
            "tags": []
          }
        },
        {
          "output_type": "display_data",
          "data": {
            "text/html": [
              "<div>\n",
              "<style scoped>\n",
              "    .dataframe tbody tr th:only-of-type {\n",
              "        vertical-align: middle;\n",
              "    }\n",
              "\n",
              "    .dataframe tbody tr th {\n",
              "        vertical-align: top;\n",
              "    }\n",
              "\n",
              "    .dataframe thead th {\n",
              "        text-align: right;\n",
              "    }\n",
              "</style>\n",
              "<table border=\"1\" class=\"dataframe\">\n",
              "  <thead>\n",
              "    <tr style=\"text-align: right;\">\n",
              "      <th></th>\n",
              "      <th>sepal length (cm)</th>\n",
              "      <th>sepal width (cm)</th>\n",
              "      <th>petal length (cm)</th>\n",
              "      <th>petal width (cm)</th>\n",
              "    </tr>\n",
              "  </thead>\n",
              "  <tbody>\n",
              "    <tr>\n",
              "      <th>18</th>\n",
              "      <td>0.393939</td>\n",
              "      <td>0.727273</td>\n",
              "      <td>0.087719</td>\n",
              "      <td>0.083333</td>\n",
              "    </tr>\n",
              "    <tr>\n",
              "      <th>129</th>\n",
              "      <td>0.848485</td>\n",
              "      <td>0.363636</td>\n",
              "      <td>0.807018</td>\n",
              "      <td>0.625000</td>\n",
              "    </tr>\n",
              "    <tr>\n",
              "      <th>33</th>\n",
              "      <td>0.333333</td>\n",
              "      <td>0.909091</td>\n",
              "      <td>0.035088</td>\n",
              "      <td>0.041667</td>\n",
              "    </tr>\n",
              "    <tr>\n",
              "      <th>131</th>\n",
              "      <td>1.060606</td>\n",
              "      <td>0.727273</td>\n",
              "      <td>0.912281</td>\n",
              "      <td>0.791667</td>\n",
              "    </tr>\n",
              "    <tr>\n",
              "      <th>13</th>\n",
              "      <td>-0.030303</td>\n",
              "      <td>0.363636</td>\n",
              "      <td>-0.017544</td>\n",
              "      <td>0.000000</td>\n",
              "    </tr>\n",
              "  </tbody>\n",
              "</table>\n",
              "</div>"
            ],
            "text/plain": [
              "     sepal length (cm)  sepal width (cm)  petal length (cm)  petal width (cm)\n",
              "18            0.393939          0.727273           0.087719          0.083333\n",
              "129           0.848485          0.363636           0.807018          0.625000\n",
              "33            0.333333          0.909091           0.035088          0.041667\n",
              "131           1.060606          0.727273           0.912281          0.791667\n",
              "13           -0.030303          0.363636          -0.017544          0.000000"
            ]
          },
          "metadata": {
            "tags": []
          }
        }
      ]
    },
    {
      "cell_type": "markdown",
      "metadata": {
        "id": "-rAmoJvY6bsm"
      },
      "source": [
        "## Criando instância e definindo os parâmetros para validação cruzada\n",
        "\n",
        "- Random Forest Classifier:\n",
        "\n",
        "https://scikit-learn.org/stable/modules/generated/sklearn.ensemble.RandomForestClassifier.html"
      ]
    },
    {
      "cell_type": "code",
      "metadata": {
        "id": "IOFAR0n66mpt"
      },
      "source": [
        "# Grid Search Cross-Validation\n",
        "## Define 'K' for K-Fold\n",
        "k = 5\n",
        "## Defining parameter range to grid search\n",
        "param_grid = [{'n_estimators': [2000],\n",
        "               'bootstrap': [True, False]}]\n",
        "## Define method instance  \n",
        "clf = RandomForestClassifier(random_state=seed)"
      ],
      "execution_count": 7,
      "outputs": []
    },
    {
      "cell_type": "markdown",
      "metadata": {
        "id": "zYFeWvir68R1"
      },
      "source": [
        "## Treinando o modelo (validação cruzada)"
      ]
    },
    {
      "cell_type": "code",
      "metadata": {
        "colab": {
          "base_uri": "https://localhost:8080/"
        },
        "id": "rnxsu31E7IZL",
        "outputId": "d14e3e18-ae77-47bc-9cb0-cd0c89de484a"
      },
      "source": [
        "## Define grid instance\n",
        "grid = GridSearchCV(estimator=clf, \n",
        "                    param_grid=param_grid, \n",
        "                    cv=k,\n",
        "                    scoring='f1')\n",
        "## Initialize grid search, fitting the best model\n",
        "grid.fit(x_train, y_train); \n",
        "\n",
        "# Results\n",
        "print('Model =', grid.best_params_)"
      ],
      "execution_count": 8,
      "outputs": [
        {
          "output_type": "stream",
          "text": [
            "Model = {'bootstrap': True, 'n_estimators': 2000}\n"
          ],
          "name": "stdout"
        }
      ]
    },
    {
      "cell_type": "markdown",
      "metadata": {
        "id": "FKyXFXx78Jos"
      },
      "source": [
        "## Avaliando o model"
      ]
    },
    {
      "cell_type": "code",
      "metadata": {
        "colab": {
          "base_uri": "https://localhost:8080/",
          "height": 467
        },
        "id": "H2y_rLYw8MlL",
        "outputId": "70362af1-ee63-4f8e-fc4c-3a22eb72adbc"
      },
      "source": [
        "## Make predictions over test set for both models\n",
        "pred = grid.predict(x_test)\n",
        "## print classification report\n",
        "print('MODEL -------------------------------------------------------\\n', \n",
        "      classification_report(y_test, pred))\n",
        "##Confusion Matrix\n",
        "skplt.metrics.plot_confusion_matrix(y_test, pred, normalize=False, title='Confusion Matrix')\n",
        "plt.tight_layout()\n",
        "plt.show();"
      ],
      "execution_count": 9,
      "outputs": [
        {
          "output_type": "stream",
          "text": [
            "MODEL -------------------------------------------------------\n",
            "               precision    recall  f1-score   support\n",
            "\n",
            "           0       1.00      1.00      1.00        25\n",
            "           1       1.00      1.00      1.00        13\n",
            "\n",
            "    accuracy                           1.00        38\n",
            "   macro avg       1.00      1.00      1.00        38\n",
            "weighted avg       1.00      1.00      1.00        38\n",
            "\n"
          ],
          "name": "stdout"
        },
        {
          "output_type": "display_data",
          "data": {
            "image/png": "[encoded data removed]",
            "text/plain": [
              "<Figure size 432x288 with 2 Axes>"
            ]
          },
          "metadata": {
            "tags": [],
            "needs_background": "light"
          }
        }
      ]
    }
  ]
}